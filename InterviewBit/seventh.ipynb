{
 "cells": [
  {
   "cell_type": "code",
   "execution_count": 87,
   "metadata": {},
   "outputs": [],
   "source": [
    "class Solution:\n",
    "    # @param A : tuple of integers\n",
    "    # @param B : integer\n",
    "    # @return an integer\n",
    "    def search(A, target):\n",
    "        def BinSearch(A,target):\n",
    "            N=len(A)\n",
    "            start=0\n",
    "            end=N-1\n",
    "            while (start<=end):\n",
    "                mid=int((start+end)/2)\n",
    "                if A[mid]==target:\n",
    "                    return mid\n",
    "                elif A[mid]<target:\n",
    "                    start=mid+1\n",
    "                else:\n",
    "                    end=mid-1\n",
    "        N=len(A)\n",
    "        start=0\n",
    "        end=N-1\n",
    "        while (start<=end):\n",
    "            mid=int((start+end)/2)\n",
    "            _next_=(mid+1)%N\n",
    "            _prev_=(mid+N-1)%N\n",
    "            print (mid,_next_,_prev_,start,end)\n",
    "            if A[start]<=A[end]:\n",
    "                pivot=start\n",
    "                print ('here')\n",
    "                break\n",
    "            elif A[mid]<=A[_prev_] and A[mid]<=A[_next_]:\n",
    "                pivot=mid\n",
    "                print ('here')\n",
    "                break\n",
    "            elif A[mid]>=A[start]:\n",
    "                start=mid+1\n",
    "            else:\n",
    "                end=mid-1\n",
    "        print (start,end,pivot)\n",
    "        out_1=BinSearch(A[0:pivot],target)\n",
    "        out_2=BinSearch(A[pivot:],target)\n",
    "        print (out_1)\n",
    "        print (out_2)\n",
    "        print (pivot)\n",
    "        if (out_1) or (out_1==0):\n",
    "            return out_1\n",
    "        if out_2 or (out_2==0):\n",
    "            return out_2+pivot\n",
    "        return -1 # array is not circular rotated or element not found"
   ]
  },
  {
   "cell_type": "code",
   "execution_count": 88,
   "metadata": {},
   "outputs": [],
   "source": [
    "sol=Solution"
   ]
  },
  {
   "cell_type": "code",
   "execution_count": 89,
   "metadata": {},
   "outputs": [
    {
     "name": "stdout",
     "output_type": "stream",
     "text": [
      "2 3 1 0 4\n",
      "here\n",
      "0 4 0\n",
      "None\n",
      "0\n",
      "0\n"
     ]
    },
    {
     "data": {
      "text/plain": [
       "0"
      ]
     },
     "execution_count": 89,
     "metadata": {},
     "output_type": "execute_result"
    }
   ],
   "source": [
    "A =[ 180, 181, 182, 183, 184, 187, 188, 189, 191, 192, 193, 194, 195, 196, 201, 202, 203, 204, 3, 4, 5, 6, 7, 8, 9, 10, 14, 16, 17, 18, 19, 23, 26, 27, 28, 29, 32, 33, 36, 37, 38, 39, 41, 42, 43, 45, 48, 51, 52, 53, 54, 56, 62, 63, 64, 67, 69, 72, 73, 75, 77, 78, 79, 83, 85, 87, 90, 91, 92, 93, 96, 98, 99, 101, 102, 104, 105, 106, 107, 108, 109, 111, 113, 115, 116, 118, 119, 120, 122, 123, 124, 126, 127, 129, 130, 135, 137, 138, 139, 143, 144, 145, 147, 149, 152, 155, 156, 160, 162, 163, 164, 166, 168, 169, 170, 171, 172, 173, 174, 175, 176, 177 ]\n",
    "\n",
    "B = 42\n",
    "A= [ 9, 10, 12, 13, 24, 26, 27, 28, 29, 43, 48, 51, 54, 56, 57, 59, 62, 66, 70, 71, 72, 74, 75, 77, 78, 81, 83, 85, 87, 88, 89, 90, 91, 92, 93, 97, 98, 99, 101, 102, 104, 105, 107, 112, 113, 115, 123, 126, 127, 132, 133, 134, 135, 136, 143, 144, 148, 150, 151, 152, 154, 159, 160, 161, 163, 167, 169, 170, 174, 176, 177, 179, 180, 181, 183, 185, 186, 187, 188, 193, 194, 196, 197, 198, 199, 200, 203, 1, 6, 7, 8 ]\n",
    "B=38\n",
    "A=[ 1, 7, 67, 133, 178 ]\n",
    "B=1\n",
    "sol.search(A,B)"
   ]
  },
  {
   "cell_type": "code",
   "execution_count": 70,
   "metadata": {},
   "outputs": [
    {
     "data": {
      "text/plain": [
       "91"
      ]
     },
     "execution_count": 70,
     "metadata": {},
     "output_type": "execute_result"
    }
   ],
   "source": [
    "len(A)"
   ]
  },
  {
   "cell_type": "code",
   "execution_count": 29,
   "metadata": {},
   "outputs": [],
   "source": [
    "def BinSearch(A,target):\n",
    "    N=len(A)\n",
    "    start=0\n",
    "    end=N-1\n",
    "    while (start<=end):\n",
    "        mid=int((start+end)/2)\n",
    "        if A[mid]==target:\n",
    "            return 1\n",
    "        elif A[mid]<target:\n",
    "            start=mid+1\n",
    "        else:\n",
    "            end=mid-1"
   ]
  },
  {
   "cell_type": "code",
   "execution_count": 30,
   "metadata": {},
   "outputs": [
    {
     "data": {
      "text/plain": [
       "1"
      ]
     },
     "execution_count": 30,
     "metadata": {},
     "output_type": "execute_result"
    }
   ],
   "source": [
    "BinSearch(A[0:5],4)"
   ]
  },
  {
   "cell_type": "code",
   "execution_count": null,
   "metadata": {},
   "outputs": [],
   "source": []
  }
 ],
 "metadata": {
  "kernelspec": {
   "display_name": "Python 3",
   "language": "python",
   "name": "python3"
  },
  "language_info": {
   "codemirror_mode": {
    "name": "ipython",
    "version": 3
   },
   "file_extension": ".py",
   "mimetype": "text/x-python",
   "name": "python",
   "nbconvert_exporter": "python",
   "pygments_lexer": "ipython3",
   "version": "3.7.3"
  }
 },
 "nbformat": 4,
 "nbformat_minor": 2
}
