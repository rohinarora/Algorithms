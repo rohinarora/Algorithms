{
 "cells": [
  {
   "cell_type": "code",
   "execution_count": 26,
   "metadata": {},
   "outputs": [],
   "source": [
    "def findCount(A, target):\n",
    "    n=len(A)\n",
    "    start,end=0,n-1\n",
    "    while start<=end:\n",
    "        mid=int((start+end)/2)\n",
    "        if A[mid]==target:\n",
    "            count=1\n",
    "            for i in range(mid+1,end+1):\n",
    "                if A[i]==target:\n",
    "                    count=count+1\n",
    "                else:\n",
    "                    break\n",
    "            for i in range(mid-1,start-1,-1):\n",
    "                if A[i]==target:\n",
    "                    count=count+1\n",
    "                else:\n",
    "                    break\n",
    "            return count\n",
    "        elif target>A[mid]:\n",
    "            start=mid+1\n",
    "        else:\n",
    "            end=mid-1\n",
    "    return 0"
   ]
  },
  {
   "cell_type": "code",
   "execution_count": 31,
   "metadata": {},
   "outputs": [
    {
     "data": {
      "text/plain": [
       "0"
      ]
     },
     "execution_count": 31,
     "metadata": {},
     "output_type": "execute_result"
    }
   ],
   "source": [
    "a=[5, 7, 7, 8, 8, 10]\n",
    "b=11\n",
    "findCount(a, b)"
   ]
  },
  {
   "cell_type": "code",
   "execution_count": null,
   "metadata": {},
   "outputs": [],
   "source": [
    "    def findCount(self,A, target):\n",
    "        n=len(A)\n",
    "        start,end=0,n-1\n",
    "        while start<=end:\n",
    "            mid=int((start+end)/2)\n",
    "            if A[mid]==target:\n",
    "                count=1\n",
    "                for i in range(mid+1,end+1):\n",
    "                    if A[i]==target:\n",
    "                        count=count+1\n",
    "                    else:\n",
    "                        break\n",
    "                for i in range(mid-1,start-1,-1):\n",
    "                    if A[i]==target:\n",
    "                        count=count+1\n",
    "                    else:\n",
    "                        break\n",
    "                return count\n",
    "            elif target>A[mid]:\n",
    "                start=mid+1\n",
    "            else:\n",
    "                end=mid-1\n",
    "        return 0"
   ]
  },
  {
   "cell_type": "code",
   "execution_count": null,
   "metadata": {},
   "outputs": [],
   "source": [
    "def findMin(A):\n",
    "    n=len(A)\n",
    "    start,end=0,n-1\n",
    "    while start<=end:\n",
    "        mid=int((start+end)/2)\n",
    "        \n",
    "        elif target>A[mid]:\n",
    "            start=mid+1\n",
    "        else:\n",
    "            end=mid-1\n",
    "    return 0"
   ]
  },
  {
   "cell_type": "code",
   "execution_count": null,
   "metadata": {},
   "outputs": [],
   "source": []
  },
  {
   "cell_type": "code",
   "execution_count": 50,
   "metadata": {},
   "outputs": [],
   "source": [
    "def findMin(A):\n",
    "    N=len(A)\n",
    "    start,end=0,N-1\n",
    "    while start<=end:\n",
    "        if end-start==1:\n",
    "            mid=start\n",
    "            _next_=(mid+1)%N\n",
    "            _prev_=(mid+N-1)%N\n",
    "            if A[mid]<=A[_prev_] and A[mid]<=A[_next_]:\n",
    "                return A[mid]\n",
    "            mid=end\n",
    "            _next_=(mid+1)%N\n",
    "            _prev_=(mid+N-1)%N\n",
    "            if A[mid]<=A[_prev_] and A[mid]<=A[_next_]:\n",
    "                return A[mid]\n",
    "        mid=int((start+end)/2)\n",
    "        _next_=(mid+1)%N\n",
    "        _prev_=(mid+N-1)%N\n",
    "        print (mid,_next_,_prev_,start,end)\n",
    "        if A[start]<=A[end]:\n",
    "            return A[start]\n",
    "        elif A[mid]<=A[_prev_] and A[mid]<=A[_next_]:\n",
    "            return A[mid]\n",
    "        elif A[mid]>A[start]:\n",
    "            start=mid+1\n",
    "        else:\n",
    "            end=mid-1\n",
    "    return -1 # array is not circular rotated"
   ]
  },
  {
   "cell_type": "code",
   "execution_count": 51,
   "metadata": {},
   "outputs": [
    {
     "name": "stdout",
     "output_type": "stream",
     "text": [
      "81 82 80 0 163\n",
      "40 41 39 0 80\n",
      "19 20 18 0 39\n",
      "29 30 28 20 39\n",
      "34 35 33 30 39\n",
      "37 38 36 35 39\n"
     ]
    },
    {
     "data": {
      "text/plain": [
       "1396"
      ]
     },
     "execution_count": 51,
     "metadata": {},
     "output_type": "execute_result"
    }
   ],
   "source": [
    "A = [ 76961, 77242, 78246, 79428, 80505, 80843, 80894, 81082, 81351, 81591, 81990, 82503, 82983, 83668, 84048, 86502, 87162, 87479, 88720, 90773, 91077, 91095, 91204, 91554, 92323, 93043, 93240, 93357, 93745, 94622, 94742, 96173, 97712, 98000, 98616, 99102, 1396, 1577, 2682, 3644, 4749, 5623, 6522, 7245, 8564, 8675, 9671, 10500, 11276, 12033, 12682, 13977, 14324, 14626, 14804, 15036, 15070, 15656, 15660, 16227, 16436, 17591, 18442, 18674, 18770, 19825, 19904, 20836, 21503, 21666, 21755, 22345, 22580, 24128, 24640, 25200, 25610, 25852, 26424, 26675, 28115, 28433, 29053, 29957, 29975, 30020, 30396, 30567, 31821, 33292, 33319, 34040, 34696, 34781, 35770, 36239, 37460, 37507, 38910, 39310, 39947, 40097, 40170, 40354, 40436, 40670, 44373, 44461, 44790, 45024, 45154, 45526, 45758, 46648, 48852, 51549, 54652, 55102, 55455, 55501, 55690, 56135, 56161, 56509, 56674, 57017, 57571, 57821, 58353, 58904, 58906, 59057, 59119, 59443, 60226, 60687, 60973, 61863, 62346, 62475, 63106, 63254, 65085, 65251, 65472, 65529, 66723, 67327, 68770, 69656, 69867, 70632, 71155, 72148, 72185, 72277, 72440, 73058, 73223, 74078, 75208, 76131, 76214, 76776 ]\n",
    "findMin(A)"
   ]
  },
  {
   "cell_type": "code",
   "execution_count": 47,
   "metadata": {},
   "outputs": [
    {
     "data": {
      "text/plain": [
       "36"
      ]
     },
     "execution_count": 47,
     "metadata": {},
     "output_type": "execute_result"
    }
   ],
   "source": [
    "A.index(1396)"
   ]
  },
  {
   "cell_type": "code",
   "execution_count": null,
   "metadata": {},
   "outputs": [],
   "source": [
    "    def findMin(self,A):\n",
    "        N=len(A)\n",
    "        start,end=0,N-1\n",
    "        while start<=end:\n",
    "            if end-start==1:\n",
    "                mid=start\n",
    "                _next_=(mid+1)%N\n",
    "                _prev_=(mid+N-1)%N\n",
    "                if A[mid]<=A[_prev_] and A[mid]<=A[_next_]:\n",
    "                    return A[mid]\n",
    "                mid=end\n",
    "                _next_=(mid+1)%N\n",
    "                _prev_=(mid+N-1)%N\n",
    "                if A[mid]<=A[_prev_] and A[mid]<=A[_next_]:\n",
    "                    return A[mid]\n",
    "            mid=int((start+end)/2)\n",
    "            _next_=(mid+1)%N\n",
    "            _prev_=(mid+N-1)%N\n",
    "            print (mid,_next_,_prev_,start,end)\n",
    "            if A[start]<=A[end]:\n",
    "                return A[start]\n",
    "            elif A[mid]<=A[_prev_] and A[mid]<=A[_next_]:\n",
    "                return A[mid]\n",
    "            elif A[mid]>A[start]:\n",
    "                start=mid+1\n",
    "            else:\n",
    "                end=mid-1\n",
    "        return -1 # array is not circular rotated"
   ]
  },
  {
   "cell_type": "code",
   "execution_count": null,
   "metadata": {},
   "outputs": [],
   "source": []
  },
  {
   "cell_type": "code",
   "execution_count": null,
   "metadata": {},
   "outputs": [],
   "source": []
  },
  {
   "cell_type": "code",
   "execution_count": null,
   "metadata": {},
   "outputs": [],
   "source": []
  },
  {
   "cell_type": "code",
   "execution_count": null,
   "metadata": {},
   "outputs": [],
   "source": []
  },
  {
   "cell_type": "code",
   "execution_count": 57,
   "metadata": {},
   "outputs": [],
   "source": []
  },
  {
   "cell_type": "code",
   "execution_count": 56,
   "metadata": {},
   "outputs": [
    {
     "data": {
      "text/plain": [
       "3"
      ]
     },
     "execution_count": 56,
     "metadata": {},
     "output_type": "execute_result"
    }
   ],
   "source": [
    "len(A[0])"
   ]
  },
  {
   "cell_type": "code",
   "execution_count": 67,
   "metadata": {},
   "outputs": [],
   "source": [
    "def findMedian(A):\n",
    "    N=len(A)\n",
    "    M=len(A[0])\n",
    "    max_int=-100000\n",
    "    min_int=100000\n",
    "    for i in range(N):\n",
    "        if A[i][-1]>max_int:\n",
    "            max_int=A[i][-1]\n",
    "    for i in range(N):\n",
    "        if A[i][0]<min_int:\n",
    "            min_int=A[i][0]\n",
    "    start=min_int\n",
    "    end=max_int\n",
    "    while(start<=end):\n",
    "        mid=int((start+end)/2)\n",
    "        "
   ]
  },
  {
   "cell_type": "code",
   "execution_count": null,
   "metadata": {},
   "outputs": [],
   "source": [
    "def find_nums_greater_matrix(A,target):\n",
    "    "
   ]
  },
  {
   "cell_type": "code",
   "execution_count": null,
   "metadata": {},
   "outputs": [],
   "source": [
    "def find_nums_greater_row(A,target): # A is a row\n",
    "    n=len(A)\n",
    "    start=0\n",
    "    end=n-1\n",
    "    while(start<=end):\n",
    "        mid=int((start+end)/2)\n",
    "        if A[mid]==target:\n",
    "            return n-mid-1"
   ]
  },
  {
   "cell_type": "code",
   "execution_count": 66,
   "metadata": {},
   "outputs": [
    {
     "name": "stdout",
     "output_type": "stream",
     "text": [
      "1000 1\n"
     ]
    }
   ],
   "source": [
    "A=[[1, 3, 5],\n",
    "[2, 6, 9],\n",
    "[3, 6, 1000]]\n",
    "findMedian(A)"
   ]
  },
  {
   "cell_type": "code",
   "execution_count": null,
   "metadata": {},
   "outputs": [],
   "source": []
  },
  {
   "cell_type": "code",
   "execution_count": null,
   "metadata": {},
   "outputs": [],
   "source": []
  }
 ],
 "metadata": {
  "kernelspec": {
   "display_name": "Python 3",
   "language": "python",
   "name": "python3"
  },
  "language_info": {
   "codemirror_mode": {
    "name": "ipython",
    "version": 3
   },
   "file_extension": ".py",
   "mimetype": "text/x-python",
   "name": "python",
   "nbconvert_exporter": "python",
   "pygments_lexer": "ipython3",
   "version": "3.7.3"
  }
 },
 "nbformat": 4,
 "nbformat_minor": 2
}
