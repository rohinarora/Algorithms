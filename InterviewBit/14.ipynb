{
 "cells": [
  {
   "cell_type": "code",
   "execution_count": 27,
   "metadata": {},
   "outputs": [],
   "source": [
    "class Solution:\n",
    "    # @param A : string\n",
    "    # @return an integer\n",
    "    def romanToInt(A):\n",
    "        dict_map={'M':1000,'D':500,'C':100,'L':50,'X':10,'V':5,'I':1,'II':2,'III':3,\\\n",
    "                  'IV':4,'V':5,'VI':6,'VII':7,'VIII':8,'IX':9,'X':10}\n",
    "        res=0\n",
    "        if 'IV' in A:\n",
    "            res=res+4\n",
    "            A=A.replace('IV','')\n",
    "            print (A)\n",
    "        if 'IX' in A:\n",
    "            res=res+9\n",
    "            A=A.replace('IX','')\n",
    "        if 'XL' in A:\n",
    "            res=res+40\n",
    "            A=A.replace('XL','')\n",
    "        if 'XC' in A:\n",
    "            res=res+90\n",
    "            A=A.replace('XC','')\n",
    "        if 'CD' in A:\n",
    "            res=res+400\n",
    "            A=A.replace('CD','')\n",
    "        if 'CM' in A:\n",
    "            res=res+900\n",
    "            A=A.replace('CM','')\n",
    "        for i in A:\n",
    "            val=dict_map[i]\n",
    "            res=res+val\n",
    "        return res"
   ]
  },
  {
   "cell_type": "code",
   "execution_count": 28,
   "metadata": {},
   "outputs": [
    {
     "data": {
      "text/plain": [
       "906"
      ]
     },
     "execution_count": 28,
     "metadata": {},
     "output_type": "execute_result"
    }
   ],
   "source": [
    "A=\"CMVI\"\n",
    "obj=Solution\n",
    "obj.romanToInt(A)"
   ]
  },
  {
   "cell_type": "code",
   "execution_count": null,
   "metadata": {},
   "outputs": [],
   "source": [
    "I, II, III, IV, V, VI, VII, VIII, IX, X"
   ]
  }
 ],
 "metadata": {
  "kernelspec": {
   "display_name": "Python 3",
   "language": "python",
   "name": "python3"
  },
  "language_info": {
   "codemirror_mode": {
    "name": "ipython",
    "version": 3
   },
   "file_extension": ".py",
   "mimetype": "text/x-python",
   "name": "python",
   "nbconvert_exporter": "python",
   "pygments_lexer": "ipython3",
   "version": "3.7.3"
  }
 },
 "nbformat": 4,
 "nbformat_minor": 2
}
