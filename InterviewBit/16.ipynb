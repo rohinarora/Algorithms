{
 "cells": [
  {
   "cell_type": "code",
   "execution_count": 64,
   "metadata": {},
   "outputs": [],
   "source": [
    "class Solution:\n",
    "    # @param A : list of strings\n",
    "    # @return an integer\n",
    "    from functools import reduce   \n",
    "    def lcm(self, a, b):\n",
    "        if a > b:\n",
    "            greater = a\n",
    "        else:\n",
    "            greater = b\n",
    "    \n",
    "        while True:\n",
    "            if greater % a == 0 and greater % b == 0:\n",
    "                lcm = greater\n",
    "                break\n",
    "            greater += 1\n",
    "    \n",
    "        return lcm\n",
    "    def get_lcm_for(self, your_list):\n",
    "        from functools import reduce\n",
    "        return reduce(lambda x, y: self.lcm(x, y), your_list)\n",
    "    def rotate(self,A):\n",
    "        for num_rotations in range(1,1000000):\n",
    "            bits_rotate=(num_rotations*(num_rotations+1))/2\n",
    "            bits_rotate=int(bits_rotate%len(A))\n",
    "            str_new=A[bits_rotate:]+A[0:bits_rotate]\n",
    "            if str_new==A:\n",
    "                return (num_rotations)\n",
    "    def solve(self, A):\n",
    "        from functools import reduce\n",
    "        out=[]\n",
    "        for i in A:\n",
    "            num_rotations=self.rotate(i)\n",
    "            out.append(num_rotations)\n",
    "        lcm=self.get_lcm_for(out)\n",
    "        return int(lcm)\n"
   ]
  },
  {
   "cell_type": "code",
   "execution_count": 65,
   "metadata": {},
   "outputs": [
    {
     "ename": "KeyboardInterrupt",
     "evalue": "",
     "output_type": "error",
     "traceback": [
      "\u001b[0;31m---------------------------------------------------------------------------\u001b[0m",
      "\u001b[0;31mKeyboardInterrupt\u001b[0m                         Traceback (most recent call last)",
      "\u001b[0;32m<ipython-input-65-b49213aee8b2>\u001b[0m in \u001b[0;36m<module>\u001b[0;34m\u001b[0m\n\u001b[1;32m      1\u001b[0m \u001b[0mA\u001b[0m \u001b[0;34m=\u001b[0m \u001b[0;34m[\u001b[0m \u001b[0;34m\"aaaaaaaaaaaaaaaaaaaaaaaaaaaaaaaaaa\"\u001b[0m\u001b[0;34m,\u001b[0m \u001b[0;34m\"babaaaabbaba\"\u001b[0m\u001b[0;34m,\u001b[0m \u001b[0;34m\"baaaaababaabbaaaaabbbbbbbaabbaaaababbabaababaabaaabbbaaaaa\"\u001b[0m\u001b[0;34m,\u001b[0m \u001b[0;34m\"abaabb\"\u001b[0m\u001b[0;34m,\u001b[0m \u001b[0;34m\"aababbbbabbaaaabbaaaaaaaababbbabbbbaabbaabaabbaabaababbbababaababaabbababaaabaaaab\"\u001b[0m\u001b[0;34m,\u001b[0m \u001b[0;34m\"babaaaaababbbbbabbbbabbaaabaaaababbabbaabbbabbaaaabbbabaaaabaaaababb\"\u001b[0m\u001b[0;34m,\u001b[0m \u001b[0;34m\"bbbbbbaaaaaabbbbbbababaabaabbbbbaaabbabbaabbbbaaaaaababbabaaabbabbabbbabbaabbabbbbaabbbaaaaabbabaaab\"\u001b[0m\u001b[0;34m,\u001b[0m \u001b[0;34m\"aabaaabaabbbbababbabbabaaaababbababbbabbbbaabbaaaaababbbbbababbbbaaababababab\"\u001b[0m\u001b[0;34m,\u001b[0m \u001b[0;34m\"aaaababbbaabbbabaabb\"\u001b[0m\u001b[0;34m,\u001b[0m \u001b[0;34m\"ababaaaabbabbbbaaabbababbbabbbabaaa\"\u001b[0m\u001b[0;34m,\u001b[0m \u001b[0;34m\"aaabaabbbabaa\"\u001b[0m\u001b[0;34m,\u001b[0m \u001b[0;34m\"baababbababbbbbabbabaabbabbbbbaaaabaaaababaa\"\u001b[0m\u001b[0;34m,\u001b[0m \u001b[0;34m\"babaa\"\u001b[0m\u001b[0;34m,\u001b[0m \u001b[0;34m\"abbabababbbbbbbbbbbaaaaaababbababaaabbbaaaabbbababbabaabbaabbbbaabbbaabbababababaabaaabbaaabbba\"\u001b[0m\u001b[0;34m,\u001b[0m \u001b[0;34m\"ababbaabbaaabbbabaabababbbabaaabbbaababaaa\"\u001b[0m\u001b[0;34m,\u001b[0m \u001b[0;34m\"abbaaaababbbbaaabaaaabaaaaabaababbabbaababbbabbbbbbbbbabbaabaaabbaaababbbaa\"\u001b[0m\u001b[0;34m,\u001b[0m \u001b[0;34m\"bbabababaabbabbabbbabbaababbabaaabbbababab\"\u001b[0m\u001b[0;34m,\u001b[0m \u001b[0;34m\"abbbaaabaab\"\u001b[0m\u001b[0;34m,\u001b[0m \u001b[0;34m\"bbaaabbaaabbaabbabababa\"\u001b[0m\u001b[0;34m,\u001b[0m \u001b[0;34m\"aabaabaaaaaaabaabbbaaababbbbbbababbaabababbaaaaabbabbbabbbaababbaabababbbbbbbbbaabaab\"\u001b[0m\u001b[0;34m,\u001b[0m \u001b[0;34m\"babbaaabbabbaabaaabbb\"\u001b[0m\u001b[0;34m,\u001b[0m \u001b[0;34m\"bbabaabba\"\u001b[0m\u001b[0;34m,\u001b[0m \u001b[0;34m\"baabaaaaabbaaaaaabbbbaaaabababa\"\u001b[0m\u001b[0;34m,\u001b[0m \u001b[0;34m\"babbaababaaba\"\u001b[0m\u001b[0;34m,\u001b[0m \u001b[0;34m\"baabaabaabbababbaabbabbbbbabaaaabbbbbabbabbbbbabbbabaabbbbabbbbaaabbbbabababaaaababbaaabbabb\"\u001b[0m\u001b[0;34m,\u001b[0m \u001b[0;34m\"abbbbaaaabaabbabbaababaabbababbbaaabbabbbbbaaabbabbaabbb\"\u001b[0m\u001b[0;34m,\u001b[0m \u001b[0;34m\"bababaaaaabababbabbaabababbbaabbaabaabaabbabbbababbaaabababbababbbb\"\u001b[0m\u001b[0;34m,\u001b[0m \u001b[0;34m\"abaaabbbabbbaabba\"\u001b[0m\u001b[0;34m,\u001b[0m \u001b[0;34m\"bbbbaaaabbbababaabbbababaaaababbaaaaaabbbabbaababababbba\"\u001b[0m\u001b[0;34m,\u001b[0m \u001b[0;34m\"bababaabaaaabbaabbababbaabbaabaabbaaaaaaaababbaaaaaabbaaabaabaaababbababbbbaabbabbabaabab\"\u001b[0m\u001b[0;34m,\u001b[0m \u001b[0;34m\"aabbbabaaabababaabbbbaabbabaaabbbaaabbabbbbabaabbbbaabbbaaaaabbbabbbbb\"\u001b[0m\u001b[0;34m,\u001b[0m \u001b[0;34m\"aabbbbbbabaabbbabbaababbababaabaaababbbbabbbaababaaaabbaaabaaabaaaabbbabababbab\"\u001b[0m\u001b[0;34m,\u001b[0m \u001b[0;34m\"abaaaaababbabaabbbaaaaabbaaaabaaaaaaaababbaabbbaabbabbbabbaaaaaab\"\u001b[0m\u001b[0;34m,\u001b[0m \u001b[0;34m\"bbbaabbabbbbbbaaaabbabbbbbbbaaabaababbaaaabbbaababbaaabbbbbbbbabbabababbaaabaabaaabaaaabbbbbabaabaaa\"\u001b[0m\u001b[0;34m,\u001b[0m \u001b[0;34m\"bbaaabaaabaaabaabaaabbaabaabbabaabaabbababaaaaabaabbbbaba\"\u001b[0m\u001b[0;34m,\u001b[0m \u001b[0;34m\"abaababaaabbabaabaabbbaaabbaabababbabaaabbbbabbbbbaaaaa\"\u001b[0m\u001b[0;34m,\u001b[0m \u001b[0;34m\"abba\"\u001b[0m\u001b[0;34m,\u001b[0m \u001b[0;34m\"abbbababbaaabbaaabbbabaabbababaaabbbbaaaaababbabbaabbabbbaaabaabbaaaaabaaaabbbaabbbabbbbbbbabb\"\u001b[0m\u001b[0;34m,\u001b[0m \u001b[0;34m\"bbabbaaabaaaabbaaaabbbaaaababbbaabaaaaab\"\u001b[0m\u001b[0;34m,\u001b[0m \u001b[0;34m\"abbaabaabbaaaaaaaabbaabbabbababaaaaaaabbabaabaabbbabbaabbaababbaabbaba\"\u001b[0m\u001b[0;34m,\u001b[0m \u001b[0;34m\"bbbbaababbaaaaaaaaabbbabbbabaabababaababaababa\"\u001b[0m\u001b[0;34m,\u001b[0m \u001b[0;34m\"baaabaabbbbbbaabbabbbabaaaaababaabaababbbaaaaaaaabbbbbabbabaaaaaaaabababaabaababaaabbaaaaaaaaabaa\"\u001b[0m\u001b[0;34m,\u001b[0m \u001b[0;34m\"aababbbabbaaaaababbabaababbbbbbbbaaabbaaaaabbaabbbba\"\u001b[0m\u001b[0;34m,\u001b[0m \u001b[0;34m\"ababababaaaaaabbbabbaaababaabb\"\u001b[0m\u001b[0;34m,\u001b[0m \u001b[0;34m\"bababbaababaabbbabbaab\"\u001b[0m\u001b[0;34m,\u001b[0m \u001b[0;34m\"baababababbaaaaabbbbbbbbbaabababb\"\u001b[0m\u001b[0;34m,\u001b[0m \u001b[0;34m\"bbbbb\"\u001b[0m\u001b[0;34m,\u001b[0m \u001b[0;34m\"aabaabbbaabababbababaaaaabbbbaababaabbabbbbbbaabbaaabbababbbabbabbbaabbbab\"\u001b[0m\u001b[0;34m,\u001b[0m \u001b[0;34m\"bbaabbbbaabbaaaaaabbbaabababbbaabaaabbbbbabaababbbaababbbaaabaaabaaaababbbbaabbaababb\"\u001b[0m\u001b[0;34m,\u001b[0m \u001b[0;34m\"aaababbaaaaabaabababbabaabbbbabbaba\"\u001b[0m \u001b[0;34m]\u001b[0m\u001b[0;34m\u001b[0m\u001b[0;34m\u001b[0m\u001b[0m\n\u001b[1;32m      2\u001b[0m \u001b[0mobj\u001b[0m\u001b[0;34m=\u001b[0m\u001b[0mSolution\u001b[0m\u001b[0;34m(\u001b[0m\u001b[0;34m)\u001b[0m\u001b[0;34m\u001b[0m\u001b[0;34m\u001b[0m\u001b[0m\n\u001b[0;32m----> 3\u001b[0;31m \u001b[0mobj\u001b[0m\u001b[0;34m.\u001b[0m\u001b[0msolve\u001b[0m\u001b[0;34m(\u001b[0m\u001b[0mA\u001b[0m\u001b[0;34m)\u001b[0m\u001b[0;34m\u001b[0m\u001b[0;34m\u001b[0m\u001b[0m\n\u001b[0m",
      "\u001b[0;32m<ipython-input-64-58d00fcfcd5d>\u001b[0m in \u001b[0;36msolve\u001b[0;34m(self, A)\u001b[0m\n\u001b[1;32m     32\u001b[0m             \u001b[0mnum_rotations\u001b[0m\u001b[0;34m=\u001b[0m\u001b[0mself\u001b[0m\u001b[0;34m.\u001b[0m\u001b[0mrotate\u001b[0m\u001b[0;34m(\u001b[0m\u001b[0mi\u001b[0m\u001b[0;34m)\u001b[0m\u001b[0;34m\u001b[0m\u001b[0;34m\u001b[0m\u001b[0m\n\u001b[1;32m     33\u001b[0m             \u001b[0mout\u001b[0m\u001b[0;34m.\u001b[0m\u001b[0mappend\u001b[0m\u001b[0;34m(\u001b[0m\u001b[0mnum_rotations\u001b[0m\u001b[0;34m)\u001b[0m\u001b[0;34m\u001b[0m\u001b[0;34m\u001b[0m\u001b[0m\n\u001b[0;32m---> 34\u001b[0;31m         \u001b[0mlcm\u001b[0m\u001b[0;34m=\u001b[0m\u001b[0mself\u001b[0m\u001b[0;34m.\u001b[0m\u001b[0mget_lcm_for\u001b[0m\u001b[0;34m(\u001b[0m\u001b[0mout\u001b[0m\u001b[0;34m)\u001b[0m\u001b[0;34m\u001b[0m\u001b[0;34m\u001b[0m\u001b[0m\n\u001b[0m\u001b[1;32m     35\u001b[0m         \u001b[0;32mreturn\u001b[0m \u001b[0mint\u001b[0m\u001b[0;34m(\u001b[0m\u001b[0mlcm\u001b[0m\u001b[0;34m)\u001b[0m\u001b[0;34m\u001b[0m\u001b[0;34m\u001b[0m\u001b[0m\n",
      "\u001b[0;32m<ipython-input-64-58d00fcfcd5d>\u001b[0m in \u001b[0;36mget_lcm_for\u001b[0;34m(self, your_list)\u001b[0m\n\u001b[1;32m     18\u001b[0m     \u001b[0;32mdef\u001b[0m \u001b[0mget_lcm_for\u001b[0m\u001b[0;34m(\u001b[0m\u001b[0mself\u001b[0m\u001b[0;34m,\u001b[0m \u001b[0myour_list\u001b[0m\u001b[0;34m)\u001b[0m\u001b[0;34m:\u001b[0m\u001b[0;34m\u001b[0m\u001b[0;34m\u001b[0m\u001b[0m\n\u001b[1;32m     19\u001b[0m         \u001b[0;32mfrom\u001b[0m \u001b[0mfunctools\u001b[0m \u001b[0;32mimport\u001b[0m \u001b[0mreduce\u001b[0m\u001b[0;34m\u001b[0m\u001b[0;34m\u001b[0m\u001b[0m\n\u001b[0;32m---> 20\u001b[0;31m         \u001b[0;32mreturn\u001b[0m \u001b[0mreduce\u001b[0m\u001b[0;34m(\u001b[0m\u001b[0;32mlambda\u001b[0m \u001b[0mx\u001b[0m\u001b[0;34m,\u001b[0m \u001b[0my\u001b[0m\u001b[0;34m:\u001b[0m \u001b[0mself\u001b[0m\u001b[0;34m.\u001b[0m\u001b[0mlcm\u001b[0m\u001b[0;34m(\u001b[0m\u001b[0mx\u001b[0m\u001b[0;34m,\u001b[0m \u001b[0my\u001b[0m\u001b[0;34m)\u001b[0m\u001b[0;34m,\u001b[0m \u001b[0myour_list\u001b[0m\u001b[0;34m)\u001b[0m\u001b[0;34m\u001b[0m\u001b[0;34m\u001b[0m\u001b[0m\n\u001b[0m\u001b[1;32m     21\u001b[0m     \u001b[0;32mdef\u001b[0m \u001b[0mrotate\u001b[0m\u001b[0;34m(\u001b[0m\u001b[0mself\u001b[0m\u001b[0;34m,\u001b[0m\u001b[0mA\u001b[0m\u001b[0;34m)\u001b[0m\u001b[0;34m:\u001b[0m\u001b[0;34m\u001b[0m\u001b[0;34m\u001b[0m\u001b[0m\n\u001b[1;32m     22\u001b[0m         \u001b[0;32mfor\u001b[0m \u001b[0mnum_rotations\u001b[0m \u001b[0;32min\u001b[0m \u001b[0mrange\u001b[0m\u001b[0;34m(\u001b[0m\u001b[0;36m1\u001b[0m\u001b[0;34m,\u001b[0m\u001b[0;36m1000000\u001b[0m\u001b[0;34m)\u001b[0m\u001b[0;34m:\u001b[0m\u001b[0;34m\u001b[0m\u001b[0;34m\u001b[0m\u001b[0m\n",
      "\u001b[0;32m<ipython-input-64-58d00fcfcd5d>\u001b[0m in \u001b[0;36m<lambda>\u001b[0;34m(x, y)\u001b[0m\n\u001b[1;32m     18\u001b[0m     \u001b[0;32mdef\u001b[0m \u001b[0mget_lcm_for\u001b[0m\u001b[0;34m(\u001b[0m\u001b[0mself\u001b[0m\u001b[0;34m,\u001b[0m \u001b[0myour_list\u001b[0m\u001b[0;34m)\u001b[0m\u001b[0;34m:\u001b[0m\u001b[0;34m\u001b[0m\u001b[0;34m\u001b[0m\u001b[0m\n\u001b[1;32m     19\u001b[0m         \u001b[0;32mfrom\u001b[0m \u001b[0mfunctools\u001b[0m \u001b[0;32mimport\u001b[0m \u001b[0mreduce\u001b[0m\u001b[0;34m\u001b[0m\u001b[0;34m\u001b[0m\u001b[0m\n\u001b[0;32m---> 20\u001b[0;31m         \u001b[0;32mreturn\u001b[0m \u001b[0mreduce\u001b[0m\u001b[0;34m(\u001b[0m\u001b[0;32mlambda\u001b[0m \u001b[0mx\u001b[0m\u001b[0;34m,\u001b[0m \u001b[0my\u001b[0m\u001b[0;34m:\u001b[0m \u001b[0mself\u001b[0m\u001b[0;34m.\u001b[0m\u001b[0mlcm\u001b[0m\u001b[0;34m(\u001b[0m\u001b[0mx\u001b[0m\u001b[0;34m,\u001b[0m \u001b[0my\u001b[0m\u001b[0;34m)\u001b[0m\u001b[0;34m,\u001b[0m \u001b[0myour_list\u001b[0m\u001b[0;34m)\u001b[0m\u001b[0;34m\u001b[0m\u001b[0;34m\u001b[0m\u001b[0m\n\u001b[0m\u001b[1;32m     21\u001b[0m     \u001b[0;32mdef\u001b[0m \u001b[0mrotate\u001b[0m\u001b[0;34m(\u001b[0m\u001b[0mself\u001b[0m\u001b[0;34m,\u001b[0m\u001b[0mA\u001b[0m\u001b[0;34m)\u001b[0m\u001b[0;34m:\u001b[0m\u001b[0;34m\u001b[0m\u001b[0;34m\u001b[0m\u001b[0m\n\u001b[1;32m     22\u001b[0m         \u001b[0;32mfor\u001b[0m \u001b[0mnum_rotations\u001b[0m \u001b[0;32min\u001b[0m \u001b[0mrange\u001b[0m\u001b[0;34m(\u001b[0m\u001b[0;36m1\u001b[0m\u001b[0;34m,\u001b[0m\u001b[0;36m1000000\u001b[0m\u001b[0;34m)\u001b[0m\u001b[0;34m:\u001b[0m\u001b[0;34m\u001b[0m\u001b[0;34m\u001b[0m\u001b[0m\n",
      "\u001b[0;32m<ipython-input-64-58d00fcfcd5d>\u001b[0m in \u001b[0;36mlcm\u001b[0;34m(self, a, b)\u001b[0m\n\u001b[1;32m     10\u001b[0m \u001b[0;34m\u001b[0m\u001b[0m\n\u001b[1;32m     11\u001b[0m         \u001b[0;32mwhile\u001b[0m \u001b[0;32mTrue\u001b[0m\u001b[0;34m:\u001b[0m\u001b[0;34m\u001b[0m\u001b[0;34m\u001b[0m\u001b[0m\n\u001b[0;32m---> 12\u001b[0;31m             \u001b[0;32mif\u001b[0m \u001b[0mgreater\u001b[0m \u001b[0;34m%\u001b[0m \u001b[0ma\u001b[0m \u001b[0;34m==\u001b[0m \u001b[0;36m0\u001b[0m \u001b[0;32mand\u001b[0m \u001b[0mgreater\u001b[0m \u001b[0;34m%\u001b[0m \u001b[0mb\u001b[0m \u001b[0;34m==\u001b[0m \u001b[0;36m0\u001b[0m\u001b[0;34m:\u001b[0m\u001b[0;34m\u001b[0m\u001b[0;34m\u001b[0m\u001b[0m\n\u001b[0m\u001b[1;32m     13\u001b[0m                 \u001b[0mlcm\u001b[0m \u001b[0;34m=\u001b[0m \u001b[0mgreater\u001b[0m\u001b[0;34m\u001b[0m\u001b[0;34m\u001b[0m\u001b[0m\n\u001b[1;32m     14\u001b[0m                 \u001b[0;32mbreak\u001b[0m\u001b[0;34m\u001b[0m\u001b[0;34m\u001b[0m\u001b[0m\n",
      "\u001b[0;31mKeyboardInterrupt\u001b[0m: "
     ]
    }
   ],
   "source": [
    "A = [ \"aaaaaaaaaaaaaaaaaaaaaaaaaaaaaaaaaa\", \"babaaaabbaba\", \"baaaaababaabbaaaaabbbbbbbaabbaaaababbabaababaabaaabbbaaaaa\", \"abaabb\", \"aababbbbabbaaaabbaaaaaaaababbbabbbbaabbaabaabbaabaababbbababaababaabbababaaabaaaab\", \"babaaaaababbbbbabbbbabbaaabaaaababbabbaabbbabbaaaabbbabaaaabaaaababb\", \"bbbbbbaaaaaabbbbbbababaabaabbbbbaaabbabbaabbbbaaaaaababbabaaabbabbabbbabbaabbabbbbaabbbaaaaabbabaaab\", \"aabaaabaabbbbababbabbabaaaababbababbbabbbbaabbaaaaababbbbbababbbbaaababababab\", \"aaaababbbaabbbabaabb\", \"ababaaaabbabbbbaaabbababbbabbbabaaa\", \"aaabaabbbabaa\", \"baababbababbbbbabbabaabbabbbbbaaaabaaaababaa\", \"babaa\", \"abbabababbbbbbbbbbbaaaaaababbababaaabbbaaaabbbababbabaabbaabbbbaabbbaabbababababaabaaabbaaabbba\", \"ababbaabbaaabbbabaabababbbabaaabbbaababaaa\", \"abbaaaababbbbaaabaaaabaaaaabaababbabbaababbbabbbbbbbbbabbaabaaabbaaababbbaa\", \"bbabababaabbabbabbbabbaababbabaaabbbababab\", \"abbbaaabaab\", \"bbaaabbaaabbaabbabababa\", \"aabaabaaaaaaabaabbbaaababbbbbbababbaabababbaaaaabbabbbabbbaababbaabababbbbbbbbbaabaab\", \"babbaaabbabbaabaaabbb\", \"bbabaabba\", \"baabaaaaabbaaaaaabbbbaaaabababa\", \"babbaababaaba\", \"baabaabaabbababbaabbabbbbbabaaaabbbbbabbabbbbbabbbabaabbbbabbbbaaabbbbabababaaaababbaaabbabb\", \"abbbbaaaabaabbabbaababaabbababbbaaabbabbbbbaaabbabbaabbb\", \"bababaaaaabababbabbaabababbbaabbaabaabaabbabbbababbaaabababbababbbb\", \"abaaabbbabbbaabba\", \"bbbbaaaabbbababaabbbababaaaababbaaaaaabbbabbaababababbba\", \"bababaabaaaabbaabbababbaabbaabaabbaaaaaaaababbaaaaaabbaaabaabaaababbababbbbaabbabbabaabab\", \"aabbbabaaabababaabbbbaabbabaaabbbaaabbabbbbabaabbbbaabbbaaaaabbbabbbbb\", \"aabbbbbbabaabbbabbaababbababaabaaababbbbabbbaababaaaabbaaabaaabaaaabbbabababbab\", \"abaaaaababbabaabbbaaaaabbaaaabaaaaaaaababbaabbbaabbabbbabbaaaaaab\", \"bbbaabbabbbbbbaaaabbabbbbbbbaaabaababbaaaabbbaababbaaabbbbbbbbabbabababbaaabaabaaabaaaabbbbbabaabaaa\", \"bbaaabaaabaaabaabaaabbaabaabbabaabaabbababaaaaabaabbbbaba\", \"abaababaaabbabaabaabbbaaabbaabababbabaaabbbbabbbbbaaaaa\", \"abba\", \"abbbababbaaabbaaabbbabaabbababaaabbbbaaaaababbabbaabbabbbaaabaabbaaaaabaaaabbbaabbbabbbbbbbabb\", \"bbabbaaabaaaabbaaaabbbaaaababbbaabaaaaab\", \"abbaabaabbaaaaaaaabbaabbabbababaaaaaaabbabaabaabbbabbaabbaababbaabbaba\", \"bbbbaababbaaaaaaaaabbbabbbabaabababaababaababa\", \"baaabaabbbbbbaabbabbbabaaaaababaabaababbbaaaaaaaabbbbbabbabaaaaaaaabababaabaababaaabbaaaaaaaaabaa\", \"aababbbabbaaaaababbabaababbbbbbbbaaabbaaaaabbaabbbba\", \"ababababaaaaaabbbabbaaababaabb\", \"bababbaababaabbbabbaab\", \"baababababbaaaaabbbbbbbbbaabababb\", \"bbbbb\", \"aabaabbbaabababbababaaaaabbbbaababaabbabbbbbbaabbaaabbababbbabbabbbaabbbab\", \"bbaabbbbaabbaaaaaabbbaabababbbaabaaabbbbbabaababbbaababbbaaabaaabaaaababbbbaabbaababb\", \"aaababbaaaaabaabababbabaabbbbabbaba\" ]\n",
    "obj=Solution()\n",
    "obj.solve(A)"
   ]
  },
  {
   "cell_type": "code",
   "execution_count": 23,
   "metadata": {},
   "outputs": [
    {
     "data": {
      "text/plain": [
       "'bca'"
      ]
     },
     "execution_count": 23,
     "metadata": {},
     "output_type": "execute_result"
    }
   ],
   "source": [
    "A[2-1:]+A[0:2-1]"
   ]
  },
  {
   "cell_type": "code",
   "execution_count": 10,
   "metadata": {},
   "outputs": [
    {
     "data": {
      "text/plain": [
       "'bca'"
      ]
     },
     "execution_count": 10,
     "metadata": {},
     "output_type": "execute_result"
    }
   ],
   "source": [
    "A[1:]+A[0]"
   ]
  },
  {
   "cell_type": "code",
   "execution_count": 60,
   "metadata": {},
   "outputs": [
    {
     "name": "stdout",
     "output_type": "stream",
     "text": [
      "4.0\n"
     ]
    }
   ],
   "source": [
    "from math import gcd\n",
    "out=[4,2,1]\n",
    "\n",
    "print (lcm)"
   ]
  },
  {
   "cell_type": "code",
   "execution_count": 57,
   "metadata": {},
   "outputs": [
    {
     "ename": "TypeError",
     "evalue": "'float' object cannot be interpreted as an integer",
     "output_type": "error",
     "traceback": [
      "\u001b[0;31m---------------------------------------------------------------------------\u001b[0m",
      "\u001b[0;31mTypeError\u001b[0m                                 Traceback (most recent call last)",
      "\u001b[0;32m<ipython-input-57-8358e161312c>\u001b[0m in \u001b[0;36m<module>\u001b[0;34m\u001b[0m\n\u001b[0;32m----> 1\u001b[0;31m \u001b[0mgcd\u001b[0m\u001b[0;34m(\u001b[0m\u001b[0mlcm\u001b[0m\u001b[0;34m,\u001b[0m \u001b[0mi\u001b[0m\u001b[0;34m)\u001b[0m\u001b[0;34m\u001b[0m\u001b[0;34m\u001b[0m\u001b[0m\n\u001b[0m",
      "\u001b[0;31mTypeError\u001b[0m: 'float' object cannot be interpreted as an integer"
     ]
    }
   ],
   "source": [
    "gcd(lcm, i)"
   ]
  },
  {
   "cell_type": "code",
   "execution_count": 58,
   "metadata": {},
   "outputs": [
    {
     "data": {
      "text/plain": [
       "4.0"
      ]
     },
     "execution_count": 58,
     "metadata": {},
     "output_type": "execute_result"
    }
   ],
   "source": [
    "lcm"
   ]
  },
  {
   "cell_type": "code",
   "execution_count": 59,
   "metadata": {},
   "outputs": [
    {
     "data": {
      "text/plain": [
       "1"
      ]
     },
     "execution_count": 59,
     "metadata": {},
     "output_type": "execute_result"
    }
   ],
   "source": [
    "i"
   ]
  },
  {
   "cell_type": "code",
   "execution_count": 63,
   "metadata": {},
   "outputs": [],
   "source": [
    "from functools import reduce"
   ]
  }
 ],
 "metadata": {
  "kernelspec": {
   "display_name": "Python 3",
   "language": "python",
   "name": "python3"
  },
  "language_info": {
   "codemirror_mode": {
    "name": "ipython",
    "version": 3
   },
   "file_extension": ".py",
   "mimetype": "text/x-python",
   "name": "python",
   "nbconvert_exporter": "python",
   "pygments_lexer": "ipython3",
   "version": "3.7.3"
  }
 },
 "nbformat": 4,
 "nbformat_minor": 2
}
