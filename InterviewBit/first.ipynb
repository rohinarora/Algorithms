{
 "cells": [
  {
   "cell_type": "code",
   "execution_count": 52,
   "metadata": {},
   "outputs": [],
   "source": [
    "def repeatedNumber(A):\n",
    "    hash_table={}\n",
    "    dup=[]\n",
    "    for i in A:\n",
    "        if i not in hash_table:\n",
    "            hash_table[i]=True\n",
    "        else:\n",
    "            dup.append(i)\n",
    "    if set(dup):\n",
    "        return set(dup).pop()\n",
    "    else:\n",
    "        return -1\n"
   ]
  },
  {
   "cell_type": "code",
   "execution_count": 56,
   "metadata": {},
   "outputs": [
    {
     "data": {
      "text/plain": [
       "1"
      ]
     },
     "execution_count": 56,
     "metadata": {},
     "output_type": "execute_result"
    }
   ],
   "source": [
    "a=repeatedNumber([1,2,1,1,2])\n",
    "a.pop()"
   ]
  },
  {
   "cell_type": "code",
   "execution_count": null,
   "metadata": {},
   "outputs": [],
   "source": [
    "hash_table."
   ]
  },
  {
   "cell_type": "code",
   "execution_count": null,
   "metadata": {},
   "outputs": [],
   "source": []
  },
  {
   "cell_type": "code",
   "execution_count": null,
   "metadata": {},
   "outputs": [],
   "source": [
    "    def repeatedNumber(A):\n",
    "        hash_table={}\n",
    "        dup=[]\n",
    "        for i in A:\n",
    "            if i not in hash_table:\n",
    "                hash_table[i]=True\n",
    "            else:\n",
    "                dup.append(i)\n",
    "        if set(dup):\n",
    "            return set(dup).pop()\n",
    "        else:\n",
    "            return -1"
   ]
  },
  {
   "cell_type": "code",
   "execution_count": null,
   "metadata": {},
   "outputs": [],
   "source": []
  },
  {
   "cell_type": "code",
   "execution_count": null,
   "metadata": {},
   "outputs": [],
   "source": []
  },
  {
   "cell_type": "code",
   "execution_count": null,
   "metadata": {},
   "outputs": [],
   "source": []
  },
  {
   "cell_type": "code",
   "execution_count": null,
   "metadata": {},
   "outputs": [],
   "source": []
  },
  {
   "cell_type": "code",
   "execution_count": null,
   "metadata": {},
   "outputs": [],
   "source": []
  },
  {
   "cell_type": "code",
   "execution_count": null,
   "metadata": {},
   "outputs": [],
   "source": []
  },
  {
   "cell_type": "code",
   "execution_count": null,
   "metadata": {},
   "outputs": [],
   "source": []
  },
  {
   "cell_type": "code",
   "execution_count": null,
   "metadata": {},
   "outputs": [],
   "source": []
  },
  {
   "cell_type": "code",
   "execution_count": null,
   "metadata": {},
   "outputs": [],
   "source": []
  },
  {
   "cell_type": "code",
   "execution_count": null,
   "metadata": {},
   "outputs": [],
   "source": []
  },
  {
   "cell_type": "code",
   "execution_count": null,
   "metadata": {},
   "outputs": [],
   "source": []
  },
  {
   "cell_type": "code",
   "execution_count": null,
   "metadata": {},
   "outputs": [],
   "source": []
  },
  {
   "cell_type": "code",
   "execution_count": null,
   "metadata": {},
   "outputs": [],
   "source": []
  },
  {
   "cell_type": "code",
   "execution_count": null,
   "metadata": {},
   "outputs": [],
   "source": [
    "def _first_greater(self, A, prev=True):\n",
    "    stack, ans = list(), [0] * len(A)\n",
    "\n",
    "    it = range(len(A)) if prev else range(len(A)-1, -1, -1)\n",
    "\n",
    "    for i in it:\n",
    "        while stack and A[i] >= A[stack[-1]]:\n",
    "            stack.pop()\n",
    "        ans[i] = stack[-1] if stack else 0\n",
    "        stack.append(i)\n",
    "    return ans\n",
    "\n",
    "# @param A : list of integers\n",
    "# @return an integer\n",
    "def maxSpecialProduct(self, A):\n",
    "    left = self._first_greater(A)\n",
    "    right = self._first_greater(A, prev=False)\n",
    "    maxx = -float('inf')\n",
    "\n",
    "    for l, r in zip(left, right):\n",
    "        maxx = max(l * r, maxx)\n",
    "\n",
    "    return maxx % 1000000007"
   ]
  },
  {
   "cell_type": "code",
   "execution_count": null,
   "metadata": {},
   "outputs": [],
   "source": []
  },
  {
   "cell_type": "code",
   "execution_count": 3,
   "metadata": {},
   "outputs": [
    {
     "data": {
      "text/plain": [
       "{11: 20, 4: 20, 3: 20, 20: 25, 25: 0}"
      ]
     },
     "execution_count": 3,
     "metadata": {},
     "output_type": "execute_result"
    }
   ],
   "source": [
    "nums=[11,4,3,20,25]\n",
    "    right_mapper={}\n",
    "    stack=[nums[0]]\n",
    "    for i in range(1,len(nums)):\n",
    "        while(stack and nums[i]>stack[-1]):\n",
    "            right_mapper[stack.pop()]=nums[i]\n",
    "        stack.append(nums[i])\n",
    "        for k in stack:\n",
    "            right_mapper[k]=0\n",
    "    right_mapper"
   ]
  },
  {
   "cell_type": "code",
   "execution_count": 41,
   "metadata": {},
   "outputs": [],
   "source": [
    "def max_product(nums):\n",
    "    left_mapper={}\n",
    "    stack=[nums[-1]]\n",
    "    for i in range(len(nums)-1,-1,-1):\n",
    "        while(stack and nums[i]>stack[-1]):\n",
    "            left_mapper[stack.pop()]=nums[i]\n",
    "        stack.append(nums[i])\n",
    "        for k in stack:\n",
    "            left_mapper[k]=0\n",
    "    right_mapper={}\n",
    "    stack=[nums[0]]\n",
    "    for i in range(1,len(nums)):\n",
    "        while(stack and nums[i]>stack[-1]):\n",
    "            right_mapper[stack.pop()]=nums[i]\n",
    "        stack.append(nums[i])\n",
    "        for k in stack:\n",
    "            right_mapper[k]=0\n",
    "    max_prod=0\n",
    "    print (left_mapper)\n",
    "    print (right_mapper)\n",
    "    for k in nums:\n",
    "        prod=left_mapper[k]*right_mapper[k]\n",
    "        if prod>max_prod:\n",
    "            max_prod=prod\n",
    "    return max_prod%1000000007"
   ]
  },
  {
   "cell_type": "code",
   "execution_count": 42,
   "metadata": {},
   "outputs": [
    {
     "name": "stdout",
     "output_type": "stream",
     "text": [
      "{9: 0, 4: 6, 5: 0, 6: 9, 8: 9}\n",
      "{5: 9, 9: 0, 6: 9, 8: 9, 4: 9}\n"
     ]
    },
    {
     "data": {
      "text/plain": [
       "81"
      ]
     },
     "execution_count": 42,
     "metadata": {},
     "output_type": "execute_result"
    }
   ],
   "source": [
    "nums= [ 5, 9, 6, 8, 6, 4, 6, 9, 5, 4, 9 ]\n",
    "max_product(nums)"
   ]
  },
  {
   "cell_type": "code",
   "execution_count": 12,
   "metadata": {},
   "outputs": [
    {
     "data": {
      "text/plain": [
       "{11: 20, 4: 20, 3: 20, 20: 25, 25: 0}"
      ]
     },
     "execution_count": 12,
     "metadata": {},
     "output_type": "execute_result"
    }
   ],
   "source": [
    "right_mapper"
   ]
  },
  {
   "cell_type": "code",
   "execution_count": null,
   "metadata": {},
   "outputs": [],
   "source": [
    "    def maxSpecialProduct(self,nums):\n",
    "        nums=[11,4,3,20,25]\n",
    "        left_mapper={}\n",
    "        stack=[nums[-1]]\n",
    "        for i in range(len(nums)-1,-1,-1):\n",
    "            while(stack and nums[i]>stack[-1]):\n",
    "                left_mapper[stack.pop()]=nums[i]\n",
    "            stack.append(nums[i])\n",
    "            for k in stack:\n",
    "                left_mapper[k]=0\n",
    "        left_mapper\n",
    "        max_prod=0\n",
    "        for k in nums:\n",
    "            prod=left_mapper[k]*right_mapper[k]\n",
    "            if prod>max_prod:\n",
    "                max_prod=prod\n",
    "        return max_prod%1000000007"
   ]
  }
 ],
 "metadata": {
  "kernelspec": {
   "display_name": "Python 3",
   "language": "python",
   "name": "python3"
  },
  "language_info": {
   "codemirror_mode": {
    "name": "ipython",
    "version": 3
   },
   "file_extension": ".py",
   "mimetype": "text/x-python",
   "name": "python",
   "nbconvert_exporter": "python",
   "pygments_lexer": "ipython3",
   "version": "3.6.5"
  }
 },
 "nbformat": 4,
 "nbformat_minor": 2
}
