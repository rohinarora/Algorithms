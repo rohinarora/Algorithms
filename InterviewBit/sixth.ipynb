{
 "cells": [
  {
   "cell_type": "code",
   "execution_count": 4,
   "metadata": {},
   "outputs": [],
   "source": [
    "class Solution:\n",
    "    # @param A : tuple of integers\n",
    "    # @param B : tuple of integers\n",
    "    # @return a double\n",
    "    def findMedianSortedArrays(A, B):\n",
    "        len_a=len(A)\n",
    "        len_b=len(B)\n",
    "        if len_a<len_b:\n",
    "            smaller_array=A\n",
    "            larger_array=b\n",
    "        else:\n",
    "            larger_array=A\n",
    "            smaller_array=B\n",
    "        start=0\n",
    "        end=len(smaller_array)\n",
    "        "
   ]
  },
  {
   "cell_type": "code",
   "execution_count": 7,
   "metadata": {},
   "outputs": [],
   "source": [
    "sol=Solution"
   ]
  },
  {
   "cell_type": "code",
   "execution_count": 8,
   "metadata": {},
   "outputs": [],
   "source": [
    "A =[1,4,5]\n",
    "B = [2,3]\n",
    "sol.findMedianSortedArrays(A,B)"
   ]
  },
  {
   "cell_type": "code",
   "execution_count": null,
   "metadata": {},
   "outputs": [],
   "source": []
  }
 ],
 "metadata": {
  "kernelspec": {
   "display_name": "Python 3",
   "language": "python",
   "name": "python3"
  },
  "language_info": {
   "codemirror_mode": {
    "name": "ipython",
    "version": 3
   },
   "file_extension": ".py",
   "mimetype": "text/x-python",
   "name": "python",
   "nbconvert_exporter": "python",
   "pygments_lexer": "ipython3",
   "version": "3.7.3"
  }
 },
 "nbformat": 4,
 "nbformat_minor": 2
}
