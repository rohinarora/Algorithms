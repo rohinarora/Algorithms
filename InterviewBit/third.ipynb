{
 "cells": [
  {
   "cell_type": "code",
   "execution_count": 11,
   "metadata": {},
   "outputs": [],
   "source": [
    "def searchInsert(A, target):\n",
    "    N=len(A)\n",
    "    start=0\n",
    "    end=N-1\n",
    "    while(start<=end):\n",
    "        mid=int((start+end)/2)\n",
    "        if A[mid]==target:\n",
    "            return mid\n",
    "        elif A[mid]<target:\n",
    "            start=mid+1\n",
    "        else:\n",
    "            end=mid-1\n",
    "    #if start>end, return start\n",
    "    return start"
   ]
  },
  {
   "cell_type": "code",
   "execution_count": 12,
   "metadata": {},
   "outputs": [
    {
     "data": {
      "text/plain": [
       "4"
      ]
     },
     "execution_count": 12,
     "metadata": {},
     "output_type": "execute_result"
    }
   ],
   "source": [
    "A=[1,3,5,7]\n",
    "B=8 #4\n",
    "searchInsert(A, B)"
   ]
  },
  {
   "cell_type": "code",
   "execution_count": null,
   "metadata": {},
   "outputs": [],
   "source": []
  },
  {
   "cell_type": "code",
   "execution_count": null,
   "metadata": {},
   "outputs": [],
   "source": [
    "    def searchInsert(self,A, target):\n",
    "        N=len(A)\n",
    "        start=0\n",
    "        end=N-1\n",
    "        while(start<=end):\n",
    "            mid=int((start+end)/2)\n",
    "            if A[mid]==target:\n",
    "                return mid\n",
    "            elif A[mid]<target:\n",
    "                start=mid+1\n",
    "            else:\n",
    "                end=mid-1\n",
    "        #if start>end, return start\n",
    "        return start"
   ]
  }
 ],
 "metadata": {
  "kernelspec": {
   "display_name": "Python 3",
   "language": "python",
   "name": "python3"
  },
  "language_info": {
   "codemirror_mode": {
    "name": "ipython",
    "version": 3
   },
   "file_extension": ".py",
   "mimetype": "text/x-python",
   "name": "python",
   "nbconvert_exporter": "python",
   "pygments_lexer": "ipython3",
   "version": "3.7.3"
  }
 },
 "nbformat": 4,
 "nbformat_minor": 2
}
