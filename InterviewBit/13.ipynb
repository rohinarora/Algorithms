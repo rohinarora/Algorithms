{
 "cells": [
  {
   "cell_type": "code",
   "execution_count": 154,
   "metadata": {},
   "outputs": [],
   "source": [
    "class Solution:\n",
    "    # @param A : integer\n",
    "    # @return a strings\n",
    "    def countAndSay(self, num):\n",
    "        if num==0:\n",
    "            return ''\n",
    "        if num==1:\n",
    "            return '1'\n",
    "        start='1'\n",
    "        for j in range(num-1):\n",
    "            res=''\n",
    "            i=0\n",
    "            count=1\n",
    "            for i in range(len(start)):\n",
    "                if (i<len(start)-1) and (start[i]==start[i+1]):\n",
    "                    count+=1\n",
    "                else:\n",
    "                    res=res+str(count)+start[i]\n",
    "                    count=1\n",
    "            start=res\n",
    "        return res"
   ]
  },
  {
   "cell_type": "code",
   "execution_count": 155,
   "metadata": {},
   "outputs": [
    {
     "data": {
      "text/plain": [
       "'111221'"
      ]
     },
     "execution_count": 155,
     "metadata": {},
     "output_type": "execute_result"
    }
   ],
   "source": [
    "obj=Solution()\n",
    "obj.countAndSay(5)"
   ]
  },
  {
   "cell_type": "code",
   "execution_count": 129,
   "metadata": {},
   "outputs": [
    {
     "name": "stdout",
     "output_type": "stream",
     "text": [
      "0 4\n",
      "1 4\n",
      "2 4\n"
     ]
    }
   ],
   "source": [
    "num=4\n",
    "for j in range(0,num-1,1):\n",
    "    print (j,num)"
   ]
  },
  {
   "cell_type": "code",
   "execution_count": null,
   "metadata": {},
   "outputs": [],
   "source": []
  }
 ],
 "metadata": {
  "kernelspec": {
   "display_name": "Python 3",
   "language": "python",
   "name": "python3"
  },
  "language_info": {
   "codemirror_mode": {
    "name": "ipython",
    "version": 3
   },
   "file_extension": ".py",
   "mimetype": "text/x-python",
   "name": "python",
   "nbconvert_exporter": "python",
   "pygments_lexer": "ipython3",
   "version": "3.7.3"
  }
 },
 "nbformat": 4,
 "nbformat_minor": 2
}
