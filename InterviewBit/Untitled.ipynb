{
 "cells": [
  {
   "cell_type": "code",
   "execution_count": 33,
   "metadata": {},
   "outputs": [],
   "source": [
    "class Solution:\n",
    "    # @param A : integer\n",
    "    # @return a strings\n",
    "    def countAndSay(self, num):\n",
    "        if num==0:\n",
    "            return ''\n",
    "        if num==1:\n",
    "            return '1'\n",
    "        start='1'\n",
    "        for j in range(num-1):\n",
    "            res=start\n",
    "            count=1\n",
    "            for i in range(len(start)):\n",
    "                if (start[i]==start[i-1]):\n",
    "                    i=i+1\n",
    "                    count+=1\n",
    "                else:\n",
    "                    res=res+str(count)+start[i]\n",
    "                    i=i+1\n",
    "                    count=1\n",
    "            \n",
    "        return res"
   ]
  },
  {
   "cell_type": "code",
   "execution_count": 34,
   "metadata": {},
   "outputs": [
    {
     "data": {
      "text/plain": [
       "'1'"
      ]
     },
     "execution_count": 34,
     "metadata": {},
     "output_type": "execute_result"
    }
   ],
   "source": [
    "obj1=Solution()\n",
    "obj1.countAndSay(5)"
   ]
  },
  {
   "cell_type": "code",
   "execution_count": null,
   "metadata": {},
   "outputs": [],
   "source": []
  }
 ],
 "metadata": {
  "kernelspec": {
   "display_name": "Python 3",
   "language": "python",
   "name": "python3"
  },
  "language_info": {
   "codemirror_mode": {
    "name": "ipython",
    "version": 3
   },
   "file_extension": ".py",
   "mimetype": "text/x-python",
   "name": "python",
   "nbconvert_exporter": "python",
   "pygments_lexer": "ipython3",
   "version": "3.7.3"
  }
 },
 "nbformat": 4,
 "nbformat_minor": 2
}
