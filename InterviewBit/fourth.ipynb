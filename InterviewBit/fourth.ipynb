{
 "cells": [
  {
   "cell_type": "code",
   "execution_count": 7,
   "metadata": {},
   "outputs": [],
   "source": [
    "def searchMatrix_inefficient(A, target):\n",
    "    N=len(A)\n",
    "    M=len(A[0])\n",
    "    for i in range(N):\n",
    "        start=0\n",
    "        end=M-1\n",
    "        while(start<=end):\n",
    "            mid=int((start+end)/2)\n",
    "            if A[i][mid]==target:\n",
    "                return 1\n",
    "            elif A[i][mid]<target:\n",
    "                start=mid+1\n",
    "            else:\n",
    "                end=mid-1\n",
    "    return 0"
   ]
  },
  {
   "cell_type": "code",
   "execution_count": 56,
   "metadata": {},
   "outputs": [],
   "source": [
    "def searchMatrix(A, target):\n",
    "    N=len(A)\n",
    "    M=len(A[0])\n",
    "    row=-1\n",
    "    for i in range(N):\n",
    "        #first figure out which row to target, and then apply bin search in it\n",
    "        start=0\n",
    "        end=N-1\n",
    "        while(start<=end):\n",
    "            mid=int((start+end)/2)\n",
    "            if (A[mid][0]<=target<=A[mid][-1]):\n",
    "                row=mid\n",
    "                break\n",
    "            elif target>A[mid][-1]:\n",
    "                start=mid+1\n",
    "            else:\n",
    "                end=mid-1   \n",
    "    if start>N:\n",
    "        return 0\n",
    "    start=0\n",
    "    end=M-1\n",
    "    print (row)\n",
    "    while(start<=end):\n",
    "        mid=int((start+end)/2)\n",
    "        if A[row][mid]==target:\n",
    "            return 1\n",
    "        elif A[row][mid]<target:\n",
    "            start=mid+1\n",
    "        else:\n",
    "            end=mid-1\n",
    "    return 0"
   ]
  },
  {
   "cell_type": "code",
   "execution_count": 58,
   "metadata": {},
   "outputs": [
    {
     "name": "stdout",
     "output_type": "stream",
     "text": [
      "0\n"
     ]
    },
    {
     "data": {
      "text/plain": [
       "1"
      ]
     },
     "execution_count": 58,
     "metadata": {},
     "output_type": "execute_result"
    }
   ],
   "source": [
    "A=[\n",
    "  [8, 10, 25, 26],\n",
    "  [28, 34, 38, 50],\n",
    "  [62, 74, 76, 78]\n",
    "]\n",
    "B=95\n",
    "A=[\n",
    "  [42, 51],\n",
    "  [66, 83]\n",
    "]\n",
    "B=83\n",
    "A=[[1]]\n",
    "B=1\n",
    "searchMatrix(A, B)"
   ]
  },
  {
   "cell_type": "code",
   "execution_count": null,
   "metadata": {},
   "outputs": [],
   "source": [
    "    def searchMatrix(A, target):\n",
    "        N=len(A)\n",
    "        M=len(A[0])\n",
    "        row=-1\n",
    "        for i in range(N):\n",
    "            #first figure out which row to target, and then apply bin search in it\n",
    "            start=0\n",
    "            end=N-1\n",
    "            while(start<=end):\n",
    "                mid=int((start+end)/2)\n",
    "                if (A[mid][0]<=target<=A[mid][-1]):\n",
    "                    row=mid\n",
    "                    break\n",
    "                elif target>A[mid][-1]:\n",
    "                    start=mid+1\n",
    "                else:\n",
    "                    end=mid-1   \n",
    "        if start>N:\n",
    "            return 0\n",
    "        start=0\n",
    "        end=M-1\n",
    "        print (row)\n",
    "        while(start<=end):\n",
    "            mid=int((start+end)/2)\n",
    "            if A[row][mid]==target:\n",
    "                return 1\n",
    "            elif A[row][mid]<target:\n",
    "                start=mid+1\n",
    "            else:\n",
    "                end=mid-1\n",
    "        return 0"
   ]
  }
 ],
 "metadata": {
  "kernelspec": {
   "display_name": "Python 3",
   "language": "python",
   "name": "python3"
  },
  "language_info": {
   "codemirror_mode": {
    "name": "ipython",
    "version": 3
   },
   "file_extension": ".py",
   "mimetype": "text/x-python",
   "name": "python",
   "nbconvert_exporter": "python",
   "pygments_lexer": "ipython3",
   "version": "3.7.3"
  }
 },
 "nbformat": 4,
 "nbformat_minor": 2
}
