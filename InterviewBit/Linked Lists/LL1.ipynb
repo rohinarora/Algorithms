{
 "cells": [
  {
   "cell_type": "code",
   "execution_count": null,
   "metadata": {},
   "outputs": [],
   "source": [
    "def merge(self,left_head,right_head):\n",
    "    left_pointer=left_head\n",
    "    right_pointer=right_head\n",
    "    l1=print_LL(left_head)\n",
    "    l2=print_LL(right_head)\n",
    "    head_merge_LL=ListNode(0) #dummy\n",
    "    iter_merged=head_merge_LL\n",
    "    for i in range(l1+l2):\n",
    "        if right_pointer.val<left_pointer.val:\n",
    "            iter_merged.next=right_pointer\n",
    "            iter_merged=iter_merged.next\n",
    "            right_pointer=right_pointer.next\n",
    "        else:\n",
    "            iter_merged.next=left_pointer\n",
    "            iter_merged=iter_merged.next\n",
    "            left_pointer=left_pointer.next\n",
    "    return head_merge_LL.next"
   ]
  },
  {
   "cell_type": "code",
   "execution_count": 21,
   "metadata": {},
   "outputs": [],
   "source": [
    "class Node:\n",
    "    def __init__(self,data):\n",
    "        self.val=data\n",
    "        self.next=None\n",
    "\n",
    "class SLL:\n",
    "    def __init__(self):\n",
    "        self.head=None\n",
    "    def print_LL(self):\n",
    "        tmp_node=self.head\n",
    "        if tmp_node is None:\n",
    "            print ('empty LL', end =\" \")\n",
    "        while (tmp_node is not None):\n",
    "            print (tmp_node.val, end =\" \")\n",
    "            tmp_node=tmp_node.next\n",
    "        print (\"\\n\")\n",
    "    def insert_start(self,data): # works even if there is no node in LL. \n",
    "        tmp_node=Node(data)\n",
    "        tmp_node.next=self.head.next\n",
    "        self.head.next=tmp_node\n",
    "    def insert_end(self,data):  # does it work with empty LL/corner cases\n",
    "        tmp_node=Node(data)\n",
    "        iter_node=self.head\n",
    "        while (iter_node.next is not None):\n",
    "            iter_node=iter_node.next\n",
    "        iter_node.next=tmp_node\n",
    "        \n",
    "    def insert_inbetween(self,middle_node,new_data): # does it work with empty LL/corner cases\n",
    "        if middle_node is None:\n",
    "            print ('Middle node is absent')\n",
    "            return\n",
    "        tmp_node=Node(new_data)\n",
    "        tmp_node.next=middle_node.next\n",
    "        middle_node.next=tmp_node\n",
    "    def remove_node(self,key):   # does it work with empty LL/corner cases\n",
    "        current_node=self.head\n",
    "        while current_node is not None:\n",
    "            if current_node.val==key:\n",
    "                prev_node.next=current_node.next\n",
    "                current_node=None\n",
    "                return\n",
    "            prev_node=current_node\n",
    "            current_node=current_node.next\n",
    "        if current_node is None:\n",
    "            print (\"key not found\")\n",
    "            return\n",
    "    def reverseList(self, A):\n",
    "        _prev=None\n",
    "        _current=A\n",
    "        _next=None\n",
    "        while (_current is not None):\n",
    "            _next=_current.next\n",
    "            _current.next=_prev\n",
    "            _prev=_current\n",
    "            _current=_next\n",
    "        return _prev"
   ]
  },
  {
   "cell_type": "code",
   "execution_count": 22,
   "metadata": {},
   "outputs": [
    {
     "name": "stdout",
     "output_type": "stream",
     "text": [
      "1 2 3 4 \n",
      "\n",
      "blank LL example-\n",
      "empty LL \n",
      "\n",
      "1 2 3 4 \n",
      "\n",
      "4 3 2 1 \n",
      "\n"
     ]
    }
   ],
   "source": [
    "LL_obj=SLL()\n",
    "LL_obj.head=Node(1) # first node\n",
    "n2=Node(2) # second node\n",
    "LL_obj.head.next=n2 #link first and second node\n",
    "n3=Node(3)\n",
    "n2.next=n3\n",
    "n4=Node(4)\n",
    "n3.next=n4\n",
    "LL_obj.print_LL()\n",
    "\n",
    "print ('blank LL example-')\n",
    "LL_obj_empty=SLL()\n",
    "LL_obj_empty.print_LL()\n",
    "LL_obj.print_LL()\n",
    "LL_obj.head=LL_obj.reverseList(LL_obj.head)\n",
    "LL_obj.print_LL()"
   ]
  },
  {
   "cell_type": "code",
   "execution_count": null,
   "metadata": {},
   "outputs": [],
   "source": []
  }
 ],
 "metadata": {
  "kernelspec": {
   "display_name": "Python 3",
   "language": "python",
   "name": "python3"
  },
  "language_info": {
   "codemirror_mode": {
    "name": "ipython",
    "version": 3
   },
   "file_extension": ".py",
   "mimetype": "text/x-python",
   "name": "python",
   "nbconvert_exporter": "python",
   "pygments_lexer": "ipython3",
   "version": "3.7.3"
  }
 },
 "nbformat": 4,
 "nbformat_minor": 2
}
