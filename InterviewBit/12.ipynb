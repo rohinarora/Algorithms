{
 "cells": [
  {
   "cell_type": "code",
   "execution_count": 27,
   "metadata": {},
   "outputs": [],
   "source": [
    "class Solution:\n",
    "    # @param A : list of strings\n",
    "    # @param B : integer\n",
    "    # @return a list of strings\n",
    "    def fullJustify(A, B):\n",
    "        def splitWords(words, curr, L):\n",
    "            if len(words) == 1:\n",
    "                return words[0] + \" \" * (L - curr)\n",
    "            to_all = (L - curr) // (len(words) - 1)\n",
    "            additional = (L - curr) % (len(words) - 1)\n",
    "            res = words.pop(0)\n",
    "    \n",
    "            for word in words:\n",
    "                res += \" \" * (to_all + 1)\n",
    "                if additional > 0:\n",
    "                    res += \" \"\n",
    "                    additional -= 1\n",
    "                res += word\n",
    "            return res\n",
    "        result = []\n",
    "        curr = 0\n",
    "        tmp = []\n",
    "        for word in A:\n",
    "            if not word:\n",
    "                continue\n",
    "            if curr + len(word) <= B:\n",
    "                curr += len(word) + 1\n",
    "                tmp.append(word)\n",
    "            else:\n",
    "                result.append(splitWords(tmp, curr - 1, B))\n",
    "                tmp = [word]\n",
    "                curr = len(word) + 1\n",
    "        if curr:\n",
    "            result.append(' '.join(tmp) + ' ' * (B - curr + 1))\n",
    "        return result"
   ]
  },
  {
   "cell_type": "code",
   "execution_count": 28,
   "metadata": {},
   "outputs": [
    {
     "data": {
      "text/plain": [
       "['This    is    an', 'example  of text', 'justification.  ']"
      ]
     },
     "execution_count": 28,
     "metadata": {},
     "output_type": "execute_result"
    }
   ],
   "source": [
    "A=[\"This\", \"is\", \"an\", \"example\", \"of\", \"text\", \"justification.\"]\n",
    "B=16\n",
    "obj=Solution\n",
    "obj.fullJustify(A,B)"
   ]
  },
  {
   "cell_type": "code",
   "execution_count": null,
   "metadata": {},
   "outputs": [],
   "source": []
  }
 ],
 "metadata": {
  "kernelspec": {
   "display_name": "Python 3",
   "language": "python",
   "name": "python3"
  },
  "language_info": {
   "codemirror_mode": {
    "name": "ipython",
    "version": 3
   },
   "file_extension": ".py",
   "mimetype": "text/x-python",
   "name": "python",
   "nbconvert_exporter": "python",
   "pygments_lexer": "ipython3",
   "version": "3.7.3"
  }
 },
 "nbformat": 4,
 "nbformat_minor": 2
}
